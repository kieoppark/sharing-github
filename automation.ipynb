{
 "cells": [
  {
   "cell_type": "code",
   "execution_count": 100,
   "metadata": {},
   "outputs": [],
   "source": [
    "import numpy as np\n",
    "import pandas as pd\n",
    "import pylab as plt \n",
    "import matplotlib\n",
    "\n",
    "%matplotlib inline "
   ]
  },
  {
   "cell_type": "code",
   "execution_count": 101,
   "metadata": {},
   "outputs": [
    {
     "ename": "FileNotFoundError",
     "evalue": "File b'data/gapminder_cleaned.csv' does not exist",
     "output_type": "error",
     "traceback": [
      "\u001b[0;31m---------------------------------------------------------------------------\u001b[0m",
      "\u001b[0;31mFileNotFoundError\u001b[0m                         Traceback (most recent call last)",
      "\u001b[0;32m<ipython-input-101-bdd8684bfb1c>\u001b[0m in \u001b[0;36m<module>\u001b[0;34m()\u001b[0m\n\u001b[1;32m      1\u001b[0m \u001b[0mcleaned_data_location\u001b[0m \u001b[0;34m=\u001b[0m \u001b[0;34m'data/gapminder_cleaned.csv'\u001b[0m\u001b[0;34m\u001b[0m\u001b[0m\n\u001b[0;32m----> 2\u001b[0;31m \u001b[0mdf\u001b[0m \u001b[0;34m=\u001b[0m \u001b[0mpd\u001b[0m\u001b[0;34m.\u001b[0m\u001b[0mread_csv\u001b[0m\u001b[0;34m(\u001b[0m\u001b[0mcleaned_data_location\u001b[0m\u001b[0;34m)\u001b[0m\u001b[0;34m\u001b[0m\u001b[0m\n\u001b[0m\u001b[1;32m      3\u001b[0m \u001b[0mdf\u001b[0m\u001b[0;34m.\u001b[0m\u001b[0mhead\u001b[0m\u001b[0;34m(\u001b[0m\u001b[0;34m)\u001b[0m\u001b[0;34m\u001b[0m\u001b[0m\n",
      "\u001b[0;32m~/anaconda3/lib/python3.6/site-packages/pandas/io/parsers.py\u001b[0m in \u001b[0;36mparser_f\u001b[0;34m(filepath_or_buffer, sep, delimiter, header, names, index_col, usecols, squeeze, prefix, mangle_dupe_cols, dtype, engine, converters, true_values, false_values, skipinitialspace, skiprows, nrows, na_values, keep_default_na, na_filter, verbose, skip_blank_lines, parse_dates, infer_datetime_format, keep_date_col, date_parser, dayfirst, iterator, chunksize, compression, thousands, decimal, lineterminator, quotechar, quoting, escapechar, comment, encoding, dialect, tupleize_cols, error_bad_lines, warn_bad_lines, skipfooter, doublequote, delim_whitespace, low_memory, memory_map, float_precision)\u001b[0m\n\u001b[1;32m    676\u001b[0m                     skip_blank_lines=skip_blank_lines)\n\u001b[1;32m    677\u001b[0m \u001b[0;34m\u001b[0m\u001b[0m\n\u001b[0;32m--> 678\u001b[0;31m         \u001b[0;32mreturn\u001b[0m \u001b[0m_read\u001b[0m\u001b[0;34m(\u001b[0m\u001b[0mfilepath_or_buffer\u001b[0m\u001b[0;34m,\u001b[0m \u001b[0mkwds\u001b[0m\u001b[0;34m)\u001b[0m\u001b[0;34m\u001b[0m\u001b[0m\n\u001b[0m\u001b[1;32m    679\u001b[0m \u001b[0;34m\u001b[0m\u001b[0m\n\u001b[1;32m    680\u001b[0m     \u001b[0mparser_f\u001b[0m\u001b[0;34m.\u001b[0m\u001b[0m__name__\u001b[0m \u001b[0;34m=\u001b[0m \u001b[0mname\u001b[0m\u001b[0;34m\u001b[0m\u001b[0m\n",
      "\u001b[0;32m~/anaconda3/lib/python3.6/site-packages/pandas/io/parsers.py\u001b[0m in \u001b[0;36m_read\u001b[0;34m(filepath_or_buffer, kwds)\u001b[0m\n\u001b[1;32m    438\u001b[0m \u001b[0;34m\u001b[0m\u001b[0m\n\u001b[1;32m    439\u001b[0m     \u001b[0;31m# Create the parser.\u001b[0m\u001b[0;34m\u001b[0m\u001b[0;34m\u001b[0m\u001b[0m\n\u001b[0;32m--> 440\u001b[0;31m     \u001b[0mparser\u001b[0m \u001b[0;34m=\u001b[0m \u001b[0mTextFileReader\u001b[0m\u001b[0;34m(\u001b[0m\u001b[0mfilepath_or_buffer\u001b[0m\u001b[0;34m,\u001b[0m \u001b[0;34m**\u001b[0m\u001b[0mkwds\u001b[0m\u001b[0;34m)\u001b[0m\u001b[0;34m\u001b[0m\u001b[0m\n\u001b[0m\u001b[1;32m    441\u001b[0m \u001b[0;34m\u001b[0m\u001b[0m\n\u001b[1;32m    442\u001b[0m     \u001b[0;32mif\u001b[0m \u001b[0mchunksize\u001b[0m \u001b[0;32mor\u001b[0m \u001b[0miterator\u001b[0m\u001b[0;34m:\u001b[0m\u001b[0;34m\u001b[0m\u001b[0m\n",
      "\u001b[0;32m~/anaconda3/lib/python3.6/site-packages/pandas/io/parsers.py\u001b[0m in \u001b[0;36m__init__\u001b[0;34m(self, f, engine, **kwds)\u001b[0m\n\u001b[1;32m    785\u001b[0m             \u001b[0mself\u001b[0m\u001b[0;34m.\u001b[0m\u001b[0moptions\u001b[0m\u001b[0;34m[\u001b[0m\u001b[0;34m'has_index_names'\u001b[0m\u001b[0;34m]\u001b[0m \u001b[0;34m=\u001b[0m \u001b[0mkwds\u001b[0m\u001b[0;34m[\u001b[0m\u001b[0;34m'has_index_names'\u001b[0m\u001b[0;34m]\u001b[0m\u001b[0;34m\u001b[0m\u001b[0m\n\u001b[1;32m    786\u001b[0m \u001b[0;34m\u001b[0m\u001b[0m\n\u001b[0;32m--> 787\u001b[0;31m         \u001b[0mself\u001b[0m\u001b[0;34m.\u001b[0m\u001b[0m_make_engine\u001b[0m\u001b[0;34m(\u001b[0m\u001b[0mself\u001b[0m\u001b[0;34m.\u001b[0m\u001b[0mengine\u001b[0m\u001b[0;34m)\u001b[0m\u001b[0;34m\u001b[0m\u001b[0m\n\u001b[0m\u001b[1;32m    788\u001b[0m \u001b[0;34m\u001b[0m\u001b[0m\n\u001b[1;32m    789\u001b[0m     \u001b[0;32mdef\u001b[0m \u001b[0mclose\u001b[0m\u001b[0;34m(\u001b[0m\u001b[0mself\u001b[0m\u001b[0;34m)\u001b[0m\u001b[0;34m:\u001b[0m\u001b[0;34m\u001b[0m\u001b[0m\n",
      "\u001b[0;32m~/anaconda3/lib/python3.6/site-packages/pandas/io/parsers.py\u001b[0m in \u001b[0;36m_make_engine\u001b[0;34m(self, engine)\u001b[0m\n\u001b[1;32m   1012\u001b[0m     \u001b[0;32mdef\u001b[0m \u001b[0m_make_engine\u001b[0m\u001b[0;34m(\u001b[0m\u001b[0mself\u001b[0m\u001b[0;34m,\u001b[0m \u001b[0mengine\u001b[0m\u001b[0;34m=\u001b[0m\u001b[0;34m'c'\u001b[0m\u001b[0;34m)\u001b[0m\u001b[0;34m:\u001b[0m\u001b[0;34m\u001b[0m\u001b[0m\n\u001b[1;32m   1013\u001b[0m         \u001b[0;32mif\u001b[0m \u001b[0mengine\u001b[0m \u001b[0;34m==\u001b[0m \u001b[0;34m'c'\u001b[0m\u001b[0;34m:\u001b[0m\u001b[0;34m\u001b[0m\u001b[0m\n\u001b[0;32m-> 1014\u001b[0;31m             \u001b[0mself\u001b[0m\u001b[0;34m.\u001b[0m\u001b[0m_engine\u001b[0m \u001b[0;34m=\u001b[0m \u001b[0mCParserWrapper\u001b[0m\u001b[0;34m(\u001b[0m\u001b[0mself\u001b[0m\u001b[0;34m.\u001b[0m\u001b[0mf\u001b[0m\u001b[0;34m,\u001b[0m \u001b[0;34m**\u001b[0m\u001b[0mself\u001b[0m\u001b[0;34m.\u001b[0m\u001b[0moptions\u001b[0m\u001b[0;34m)\u001b[0m\u001b[0;34m\u001b[0m\u001b[0m\n\u001b[0m\u001b[1;32m   1015\u001b[0m         \u001b[0;32melse\u001b[0m\u001b[0;34m:\u001b[0m\u001b[0;34m\u001b[0m\u001b[0m\n\u001b[1;32m   1016\u001b[0m             \u001b[0;32mif\u001b[0m \u001b[0mengine\u001b[0m \u001b[0;34m==\u001b[0m \u001b[0;34m'python'\u001b[0m\u001b[0;34m:\u001b[0m\u001b[0;34m\u001b[0m\u001b[0m\n",
      "\u001b[0;32m~/anaconda3/lib/python3.6/site-packages/pandas/io/parsers.py\u001b[0m in \u001b[0;36m__init__\u001b[0;34m(self, src, **kwds)\u001b[0m\n\u001b[1;32m   1706\u001b[0m         \u001b[0mkwds\u001b[0m\u001b[0;34m[\u001b[0m\u001b[0;34m'usecols'\u001b[0m\u001b[0;34m]\u001b[0m \u001b[0;34m=\u001b[0m \u001b[0mself\u001b[0m\u001b[0;34m.\u001b[0m\u001b[0musecols\u001b[0m\u001b[0;34m\u001b[0m\u001b[0m\n\u001b[1;32m   1707\u001b[0m \u001b[0;34m\u001b[0m\u001b[0m\n\u001b[0;32m-> 1708\u001b[0;31m         \u001b[0mself\u001b[0m\u001b[0;34m.\u001b[0m\u001b[0m_reader\u001b[0m \u001b[0;34m=\u001b[0m \u001b[0mparsers\u001b[0m\u001b[0;34m.\u001b[0m\u001b[0mTextReader\u001b[0m\u001b[0;34m(\u001b[0m\u001b[0msrc\u001b[0m\u001b[0;34m,\u001b[0m \u001b[0;34m**\u001b[0m\u001b[0mkwds\u001b[0m\u001b[0;34m)\u001b[0m\u001b[0;34m\u001b[0m\u001b[0m\n\u001b[0m\u001b[1;32m   1709\u001b[0m \u001b[0;34m\u001b[0m\u001b[0m\n\u001b[1;32m   1710\u001b[0m         \u001b[0mpassed_names\u001b[0m \u001b[0;34m=\u001b[0m \u001b[0mself\u001b[0m\u001b[0;34m.\u001b[0m\u001b[0mnames\u001b[0m \u001b[0;32mis\u001b[0m \u001b[0;32mNone\u001b[0m\u001b[0;34m\u001b[0m\u001b[0m\n",
      "\u001b[0;32mpandas/_libs/parsers.pyx\u001b[0m in \u001b[0;36mpandas._libs.parsers.TextReader.__cinit__\u001b[0;34m()\u001b[0m\n",
      "\u001b[0;32mpandas/_libs/parsers.pyx\u001b[0m in \u001b[0;36mpandas._libs.parsers.TextReader._setup_parser_source\u001b[0;34m()\u001b[0m\n",
      "\u001b[0;31mFileNotFoundError\u001b[0m: File b'data/gapminder_cleaned.csv' does not exist"
     ]
    }
   ],
   "source": [
    "cleaned_data_location = 'data/gapminder_cleaned.csv'\n",
    "df = pd.read_csv(cleaned_data_location)\n",
    "df.head()"
   ]
  },
  {
   "cell_type": "code",
   "execution_count": null,
   "metadata": {},
   "outputs": [],
   "source": [
    "VERBOSE = True\n",
    "\n",
    "cleaned_data_location = '../data/gapminder_cleaned.csv'\n",
    "\n",
    "try: \n",
    "    df = pd.read_csv(cleaned_data_location)\n",
    "    if VERBOSE:\n",
    "        print(df.head())\n",
    "        \n",
    "except FileNotFoundError:\n",
    "    print(\"Could not find data file, check path? You tried\", cleaned_data_location)"
   ]
  },
  {
   "cell_type": "code",
   "execution_count": null,
   "metadata": {},
   "outputs": [],
   "source": [
    "VERBOSE = False\n",
    "\n",
    "cleaned_data_location = '../data/gapminder_cleaned.csv'\n",
    "\n",
    "try: \n",
    "    df = pd.read_csv(cleaned_data_location)\n",
    "    if VERBOSE:\n",
    "        print(df.head())\n",
    "        \n",
    "except FileNotFoundError:\n",
    "    print(\"Could not find data file, check path? You tried\", cleaned_data_location)"
   ]
  },
  {
   "cell_type": "code",
   "execution_count": null,
   "metadata": {},
   "outputs": [],
   "source": [
    "years = df['year'].unique()\n",
    "years.sort()\n",
    "assert years[-1] == 2007"
   ]
  },
  {
   "cell_type": "code",
   "execution_count": null,
   "metadata": {},
   "outputs": [],
   "source": [
    "years = df['year'].unique()\n",
    "years.sort()\n",
    "years[-1] == 2007"
   ]
  },
  {
   "cell_type": "code",
   "execution_count": null,
   "metadata": {},
   "outputs": [],
   "source": [
    "years"
   ]
  },
  {
   "cell_type": "code",
   "execution_count": null,
   "metadata": {},
   "outputs": [],
   "source": [
    "years.sort()"
   ]
  },
  {
   "cell_type": "code",
   "execution_count": null,
   "metadata": {},
   "outputs": [],
   "source": [
    "years[-1]"
   ]
  },
  {
   "cell_type": "code",
   "execution_count": null,
   "metadata": {},
   "outputs": [],
   "source": [
    "assert years[-1] == 2007"
   ]
  },
  {
   "cell_type": "code",
   "execution_count": null,
   "metadata": {},
   "outputs": [],
   "source": [
    "type(years)"
   ]
  },
  {
   "cell_type": "code",
   "execution_count": null,
   "metadata": {},
   "outputs": [],
   "source": [
    "years_list = [1952, 2007]\n",
    "type(years_list)"
   ]
  },
  {
   "cell_type": "code",
   "execution_count": null,
   "metadata": {},
   "outputs": [],
   "source": [
    "years_list.sort()"
   ]
  },
  {
   "cell_type": "code",
   "execution_count": null,
   "metadata": {},
   "outputs": [],
   "source": [
    "years_list"
   ]
  },
  {
   "cell_type": "code",
   "execution_count": null,
   "metadata": {},
   "outputs": [],
   "source": [
    "assert years[-1] == 2005, 'PI told me this was data up to 2005 but its not'"
   ]
  },
  {
   "cell_type": "code",
   "execution_count": null,
   "metadata": {},
   "outputs": [],
   "source": [
    "#Calculate mean life expectancy for continent asia in 1952 \n",
    "mask_asia = df['continent'] == 'asia'\n",
    "df_asia = df[mask_asia]\n",
    "\n",
    "years = df_asia['year'].unique()\n",
    "summary = []\n",
    "\n",
    "for year in years: \n",
    "    mask_year = df_asia['year'] == year\n",
    "    df_year = df_asia[mask_year]\n",
    "    value = np.mean(df_year['lifeexp'])\n",
    "    summary.append(('asia', year, value))\n",
    "\n",
    "assert len(summary) == 12\n",
    "    \n",
    "#Trun the summary into a data frame so we can easily visualize it \n",
    "result_df = pd.DataFrame(summary, columns=['continent','year', 'lifeexp'])\n",
    "result_df\n"
   ]
  },
  {
   "cell_type": "code",
   "execution_count": null,
   "metadata": {},
   "outputs": [],
   "source": [
    "#Calculate mean life expectancy for continent continent by all years\n",
    "    category = 'lifeexp'\n",
    "    continent = 'asia'\n",
    "\n",
    "    mask_continent = df['continent'] == continent\n",
    "    df_continent = df[mask_continent]\n",
    "\n",
    "    years = df_continent['year'].unique()\n",
    "    summary = []\n",
    "\n",
    "    for year in years: \n",
    "        mask_year = df_continent['year'] == year\n",
    "        df_year = df_continent[mask_year]\n",
    "        value = np.mean(df_year['lifeexp'])\n",
    "        summary.append((continent, year, value))\n",
    "\n",
    "    assert len(summary) == 12\n",
    "\n",
    "    #Trun the summary into a data frame so we can easily visualize it \n",
    "    result_df = pd.DataFrame(summary, columns=['continent','year', category])\n",
    "    result_df"
   ]
  },
  {
   "cell_type": "code",
   "execution_count": null,
   "metadata": {},
   "outputs": [],
   "source": [
    "result_df.plot.line('year', category, label = 'life expectancy')"
   ]
  },
  {
   "cell_type": "code",
   "execution_count": null,
   "metadata": {},
   "outputs": [],
   "source": [
    "def calculate_mean_over_time(data, category, continent, verbose=False):\n",
    "    #Calculate mean category for continent by all years \n",
    "    \n",
    "    #Create a maske that selects the continent of choice \n",
    "    \n",
    "    mask_continent = df['continent'] == continent\n",
    "    df_continent = df[mask_continent]\n",
    "\n",
    "    #Loop over the years and calculate the statistic of interest into summary list variable\n",
    "    years = df_continent['year'].unique()\n",
    "    summary = []\n",
    "\n",
    "    for year in years: \n",
    "        if verbose: \n",
    "            print (year)\n",
    "        mask_year = df_continent['year'] == year\n",
    "        df_year = df_continent[mask_year]\n",
    "        value = np.mean(df_year[category])\n",
    "        summary.append((continent, year, value))\n",
    "\n",
    "    #There should be 12 records for each continent\n",
    "    assert len(summary) == 12\n",
    "\n",
    "    #Trun the summary into a data frame so we can easily visualize it \n",
    "    result_df = pd.DataFrame(summary, columns=['continent','year', category])\n",
    "    return result_df"
   ]
  },
  {
   "cell_type": "code",
   "execution_count": null,
   "metadata": {},
   "outputs": [],
   "source": [
    "calculate_mean_over_time(df, 'lifeexp', 'asia', True)"
   ]
  },
  {
   "cell_type": "code",
   "execution_count": null,
   "metadata": {},
   "outputs": [],
   "source": [
    "def calculate_statistic_over_time(data, category, continent, func):\n",
    "    #Calculate all statistics for continent by all years \n",
    "\n",
    "    \n",
    "    #Create a mask that selects the continent of choice \n",
    "    \n",
    "    mask_continent = df['continent'] == continent\n",
    "    df_continent = df[mask_continent]\n",
    "\n",
    "    #Loop over the years and calculate the statistic of interest into summary list variable\n",
    "    years = df_continent['year'].unique()\n",
    "    summary = []\n",
    "\n",
    "    for year in years: \n",
    "        mask_year = df_continent['year'] == year\n",
    "        df_year = df_continent[mask_year]\n",
    "        value = func(df_year[category])\n",
    "        summary.append((continent, year, value))\n",
    "\n",
    "    #There should be 12 records for each continent\n",
    "    assert len(summary) == 12\n",
    "\n",
    "    #Trun the summary into a data frame so we can easily visualize it \n",
    "    result_df = pd.DataFrame(summary, columns=['continent','year', category])\n",
    "    return result_df\n"
   ]
  },
  {
   "cell_type": "code",
   "execution_count": null,
   "metadata": {},
   "outputs": [],
   "source": [
    "calculate_statistic_over_time(df, 'lifeexp', 'asia', np.median)"
   ]
  },
  {
   "cell_type": "code",
   "execution_count": null,
   "metadata": {},
   "outputs": [],
   "source": [
    "#or another method \n",
    "\n",
    "def calculate_statistic_over_time(data, category, continent, func):\n",
    "    #Calculate all statistics for continent by all years \n",
    "\n",
    "    \n",
    "    #Create a mask that selects the continent of choice \n",
    "    \n",
    "    mask_continent = df['continent'] == continent\n",
    "    df_continent = df[mask_continent]\n",
    "\n",
    "    #Loop over the years and calculate the statistic of interest into summary list variable\n",
    "    years = df_continent['year'].unique()\n",
    "    summary = []\n",
    "\n",
    "    for year in years: \n",
    "        mask_year = df_continent['year'] == year\n",
    "        df_year = df_continent[mask_year]\n",
    "        value = eval('np.' + func + '(df_year[category])')\n",
    "        #value = func(df_year[category])\n",
    "        summary.append((continent, year, value))\n",
    "\n",
    "    #There should be 12 records for each continent\n",
    "    assert len(summary) == 12\n",
    "\n",
    "    #Trun the summary into a data frame so we can easily visualize it \n",
    "    result_df = pd.DataFrame(summary, columns=['continent','year', category + '' + func.__name__])\n",
    "    return result_df"
   ]
  },
  {
   "cell_type": "code",
   "execution_count": null,
   "metadata": {},
   "outputs": [],
   "source": [
    "np.mean([1,2,3])"
   ]
  },
  {
   "cell_type": "code",
   "execution_count": null,
   "metadata": {},
   "outputs": [],
   "source": [
    "dir()"
   ]
  },
  {
   "cell_type": "code",
   "execution_count": null,
   "metadata": {},
   "outputs": [],
   "source": [
    "dir(np.mean)"
   ]
  },
  {
   "cell_type": "code",
   "execution_count": null,
   "metadata": {},
   "outputs": [],
   "source": [
    "np.mean.__name__"
   ]
  },
  {
   "cell_type": "code",
   "execution_count": null,
   "metadata": {},
   "outputs": [],
   "source": [
    "#How would you make a DRY function to calculate the median value over time? \n",
    "\n",
    "def calculate_statistic_over_time(data, category, continent, func):\n",
    "    \"\"\"Calculate  values of a statistic through time\n",
    "    \n",
    "    Args: \n",
    "        data: a data frame\n",
    "        category: one of the column headers of the data frame (e.g. 'lifeexp')\n",
    "        continent: possible value of continent column in that data frame (e.g. 'asia')\n",
    "        func: the function to apply to data values (e.g. np.mean)\n",
    "        \n",
    "        Returns:a summary table of value per year.\n",
    "    \"\"\"\n",
    "    #check the values \n",
    "    assert category in data.columns.values, 'Category must be one of the data frame columns'\n",
    "    assert 'continent' in data.columns.values, 'continent column not found in data frame'\n",
    "    assert continent in data['continent'].unique(), 'Continent value not found in data frame'\n",
    "    \n",
    "    \n",
    " #Calculate all statistics for continent by all years \n",
    "\n",
    "    \n",
    "    #Create a mask that selects the continent of choice \n",
    "    \n",
    "    mask_continent = df['continent'] == continent\n",
    "    df_continent = df[mask_continent]\n",
    "\n",
    "    #Loop over the years and calculate the statistic of interest into summary list variable\n",
    "    years = df_continent['year'].unique()\n",
    "    summary = []\n",
    "\n",
    "    for year in years: \n",
    "        mask_year = df_continent['year'] == year\n",
    "        df_year = df_continent[mask_year]\n",
    "        value = func(df_year[category])\n",
    "        summary.append((continent, year, value))\n",
    "\n",
    "    #There should be 12 records for each continent\n",
    "    assert len(summary) == 12\n",
    "\n",
    "    #Trun the summary into a data frame so we can easily visualize it \n",
    "    result_df = pd.DataFrame(summary, columns=['continent','year', category + '_' + func.__name__])\n",
    "    return result_df\n",
    " \n",
    "    "
   ]
  },
  {
   "cell_type": "code",
   "execution_count": null,
   "metadata": {},
   "outputs": [],
   "source": [
    "help(calculate_statistic_over_time)"
   ]
  },
  {
   "cell_type": "code",
   "execution_count": null,
   "metadata": {},
   "outputs": [],
   "source": [
    "calculate_statistic_over_time(df, 'lifeexp', 'americas', np.median)"
   ]
  },
  {
   "cell_type": "code",
   "execution_count": null,
   "metadata": {},
   "outputs": [],
   "source": [
    "# plot life expectancy over time for all continents\n",
    "continents = df['continent'].unique()\n",
    "category = 'lifeexp'\n",
    "fig, ax = plt.subplots()\n",
    "\n",
    "for continent in continents: \n",
    "    func=np.max\n",
    "    output = calculate_statistic_over_time(df, category, continent, func)\n",
    "    output.plot.line('year', category + '_' + func.__name__, ax=ax, label=continent)"
   ]
  },
  {
   "cell_type": "code",
   "execution_count": null,
   "metadata": {},
   "outputs": [],
   "source": []
  },
  {
   "cell_type": "code",
   "execution_count": null,
   "metadata": {},
   "outputs": [],
   "source": []
  },
  {
   "cell_type": "code",
   "execution_count": null,
   "metadata": {},
   "outputs": [],
   "source": []
  }
 ],
 "metadata": {
  "kernelspec": {
   "display_name": "Python 3",
   "language": "python",
   "name": "python3"
  },
  "language_info": {
   "codemirror_mode": {
    "name": "ipython",
    "version": 3
   },
   "file_extension": ".py",
   "mimetype": "text/x-python",
   "name": "python",
   "nbconvert_exporter": "python",
   "pygments_lexer": "ipython3",
   "version": "3.6.5"
  }
 },
 "nbformat": 4,
 "nbformat_minor": 2
}
